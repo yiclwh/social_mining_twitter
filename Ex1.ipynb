{
 "cells": [
  {
   "cell_type": "code",
   "execution_count": 29,
   "metadata": {
    "collapsed": false
   },
   "outputs": [
    {
     "name": "stdout",
     "output_type": "stream",
     "text": [
      "<twitter.api.Twitter object at 0x0000000003D59C18>\n"
     ]
    }
   ],
   "source": [
    "%matplotlib inline\n",
    "import twitter\n",
    "\n",
    "CONSUMER_KEY = 'PF525HzHZvTa8F8S0TsAFk50D'\n",
    "CONSUMER_SECRET = 'mUv1a7uPjyTmNGrAjwwitPpTu8jL3xBALV4Otx2wEyZHJo1yGU'\n",
    "OAUTH_TOKEN = '49642253-AVFwpXQNldYxtzyd4vb5rGEJWKagtiUZzSlHlLK7k'\n",
    "OAUTH_TOKEN_SECRET = 'k0wnPwAyUh9TgtY58PnvxaGlL1QSgod08uUy0u4DF65pE'\n",
    "\n",
    "auth = twitter.oauth.OAuth(OAUTH_TOKEN, OAUTH_TOKEN_SECRET, CONSUMER_KEY, CONSUMER_SECRET)\n",
    "\n",
    "twitter_api = twitter.Twitter(auth = auth)\n",
    "\n",
    "# Nothing to see by displaying twitter_api except that it's now a\n",
    "# defined variable\n",
    "print twitter_api"
   ]
  },
  {
   "cell_type": "code",
   "execution_count": 30,
   "metadata": {
    "collapsed": false
   },
   "outputs": [
    {
     "name": "stdout",
     "output_type": "stream",
     "text": [
      "[{u'created_at': u'2016-02-10T21:23:25Z', u'trends': [{u'url': u'http://twitter.com/search?q=%23ApuracaoRJ', u'query': u'%23ApuracaoRJ', u'tweet_volume': 126503, u'name': u'#ApuracaoRJ', u'promoted_content': None}, {u'url': u'http://twitter.com/search?q=%23Sanremo2016', u'query': u'%23Sanremo2016', u'tweet_volume': 440394, u'name': u'#Sanremo2016', u'promoted_content': None}, {u'url': u'http://twitter.com/search?q=Portela', u'query': u'Portela', u'tweet_volume': 93873, u'name': u'Portela', u'promoted_content': None}, {u'url': u'http://twitter.com/search?q=%23whywebelieveinlarry', u'query': u'%23whywebelieveinlarry', u'tweet_volume': 228268, u'name': u'#whywebelieveinlarry', u'promoted_content': None}, {u'url': u'http://twitter.com/search?q=%23WeMissYouLiam', u'query': u'%23WeMissYouLiam', u'tweet_volume': 134286, u'name': u'#WeMissYouLiam', u'promoted_content': None}, {u'url': u'http://twitter.com/search?q=%23IAlwaysGetAnnoyedWhen', u'query': u'%23IAlwaysGetAnnoyedWhen', u'tweet_volume': 38697, u'name': u'#IAlwaysGetAnnoyedWhen', u'promoted_content': None}, {u'url': u'http://twitter.com/search?q=Beija-Flor', u'query': u'Beija-Flor', u'tweet_volume': 115563, u'name': u'Beija-Flor', u'promoted_content': None}, {u'url': u'http://twitter.com/search?q=%22Carly+Fiorina%22', u'query': u'%22Carly+Fiorina%22', u'tweet_volume': 27076, u'name': u'Carly Fiorina', u'promoted_content': None}, {u'url': u'http://twitter.com/search?q=Tijuca', u'query': u'Tijuca', u'tweet_volume': 25603, u'name': u'Tijuca', u'promoted_content': None}, {u'url': u'http://twitter.com/search?q=%22QUEREMOS+LITTLE+MIX%22', u'query': u'%22QUEREMOS+LITTLE+MIX%22', u'tweet_volume': 17156, u'name': u'QUEREMOS LITTLE MIX', u'promoted_content': None}, {u'url': u'http://twitter.com/search?q=Mestalla', u'query': u'Mestalla', u'tweet_volume': 14109, u'name': u'Mestalla', u'promoted_content': None}, {u'url': u'http://twitter.com/search?q=Est%C3%A1cio', u'query': u'Est%C3%A1cio', u'tweet_volume': 11130, u'name': u'Est\\xe1cio', u'promoted_content': None}, {u'url': u'http://twitter.com/search?q=%22Milton+Cunha%22', u'query': u'%22Milton+Cunha%22', u'tweet_volume': None, u'name': u'Milton Cunha', u'promoted_content': None}, {u'url': u'http://twitter.com/search?q=%22NOTA+10%22', u'query': u'%22NOTA+10%22', u'tweet_volume': 39726, u'name': u'NOTA 10', u'promoted_content': None}, {u'url': u'http://twitter.com/search?q=%22Sergi+Roberto%22', u'query': u'%22Sergi+Roberto%22', u'tweet_volume': None, u'name': u'Sergi Roberto', u'promoted_content': None}, {u'url': u'http://twitter.com/search?q=%22ANNIKERS+SEGUE+ANNIKERS%22', u'query': u'%22ANNIKERS+SEGUE+ANNIKERS%22', u'tweet_volume': 33318, u'name': u'ANNIKERS SEGUE ANNIKERS', u'promoted_content': None}, {u'url': u'http://twitter.com/search?q=%23PSGOL', u'query': u'%23PSGOL', u'tweet_volume': 26413, u'name': u'#PSGOL', u'promoted_content': None}, {u'url': u'http://twitter.com/search?q=%23correspondentsdinner', u'query': u'%23correspondentsdinner', u'tweet_volume': 11884, u'name': u'#correspondentsdinner', u'promoted_content': None}, {u'url': u'http://twitter.com/search?q=%23SeferBizimZaferAllah%C4%B1nd%C4%B1r', u'query': u'%23SeferBizimZaferAllah%C4%B1nd%C4%B1r', u'tweet_volume': 53257, u'name': u'#SeferBizimZaferAllah\\u0131nd\\u0131r', u'promoted_content': None}, {u'url': u'http://twitter.com/search?q=%23SELFIEFORSEB', u'query': u'%23SELFIEFORSEB', u'tweet_volume': None, u'name': u'#SELFIEFORSEB', u'promoted_content': None}, {u'url': u'http://twitter.com/search?q=%23%C4%B0%C3%A7imdeki%C3%96fke', u'query': u'%23%C4%B0%C3%A7imdeki%C3%96fke', u'tweet_volume': 24755, u'name': u'#\\u0130\\xe7imdeki\\xd6fke', u'promoted_content': None}, {u'url': u'http://twitter.com/search?q=%23EstaSonrisaSignifica', u'query': u'%23EstaSonrisaSignifica', u'tweet_volume': None, u'name': u'#EstaSonrisaSignifica', u'promoted_content': None}, {u'url': u'http://twitter.com/search?q=%23%D8%A7%D9%84%D8%A7%D9%87%D9%84%D9%8A_%D8%A7%D9%84%D9%88%D8%AD%D8%AF%D9%87', u'query': u'%23%D8%A7%D9%84%D8%A7%D9%87%D9%84%D9%8A_%D8%A7%D9%84%D9%88%D8%AD%D8%AF%D9%87', u'tweet_volume': 56488, u'name': u'#\\u0627\\u0644\\u0627\\u0647\\u0644\\u064a_\\u0627\\u0644\\u0648\\u062d\\u062f\\u0647', u'promoted_content': None}, {u'url': u'http://twitter.com/search?q=%23BOCFCB', u'query': u'%23BOCFCB', u'tweet_volume': 18330, u'name': u'#BOCFCB', u'promoted_content': None}, {u'url': u'http://twitter.com/search?q=%23EscaleraAlCielo', u'query': u'%23EscaleraAlCielo', u'tweet_volume': 20850, u'name': u'#EscaleraAlCielo', u'promoted_content': None}, {u'url': u'http://twitter.com/search?q=%23My5WordCampaignPromise', u'query': u'%23My5WordCampaignPromise', u'tweet_volume': None, u'name': u'#My5WordCampaignPromise', u'promoted_content': None}, {u'url': u'http://twitter.com/search?q=%23JustinBieberBRITs', u'query': u'%23JustinBieberBRITs', u'tweet_volume': 177944, u'name': u'#JustinBieberBRITs', u'promoted_content': None}, {u'url': u'http://twitter.com/search?q=%23%D8%AA%D9%88%D9%8A%D8%AA%D8%B1_%D9%8A%D9%88%D9%82%D9%81_%D8%AD%D8%B3%D8%A7%D8%A8_%D9%82%D9%86%D8%A7%D9%87_%D8%A7%D9%84%D9%85%D8%AC%D8%AA%D9%85%D8%B9', u'query': u'%23%D8%AA%D9%88%D9%8A%D8%AA%D8%B1_%D9%8A%D9%88%D9%82%D9%81_%D8%AD%D8%B3%D8%A7%D8%A8_%D9%82%D9%86%D8%A7%D9%87_%D8%A7%D9%84%D9%85%D8%AC%D8%AA%D9%85%D8%B9', u'tweet_volume': 12637, u'name': u'#\\u062a\\u0648\\u064a\\u062a\\u0631_\\u064a\\u0648\\u0642\\u0641_\\u062d\\u0633\\u0627\\u0628_\\u0642\\u0646\\u0627\\u0647_\\u0627\\u0644\\u0645\\u062c\\u062a\\u0645\\u0639', u'promoted_content': None}, {u'url': u'http://twitter.com/search?q=%23NoHayTutorialParaEsteAmorMica', u'query': u'%23NoHayTutorialParaEsteAmorMica', u'tweet_volume': 66641, u'name': u'#NoHayTutorialParaEsteAmorMica', u'promoted_content': None}, {u'url': u'http://twitter.com/search?q=%23LibertadSinCargos', u'query': u'%23LibertadSinCargos', u'tweet_volume': None, u'name': u'#LibertadSinCargos', u'promoted_content': None}, {u'url': u'http://twitter.com/search?q=%23%D9%88%D8%B6%D8%B9%D9%8A_%D9%81%D9%8A_%D8%B9%D9%8A%D8%AF_%D8%A7%D9%84%D8%AD%D8%A8', u'query': u'%23%D9%88%D8%B6%D8%B9%D9%8A_%D9%81%D9%8A_%D8%B9%D9%8A%D8%AF_%D8%A7%D9%84%D8%AD%D8%A8', u'tweet_volume': 33084, u'name': u'#\\u0648\\u0636\\u0639\\u064a_\\u0641\\u064a_\\u0639\\u064a\\u062f_\\u0627\\u0644\\u062d\\u0628', u'promoted_content': None}, {u'url': u'http://twitter.com/search?q=%23%D9%83%D9%84%D9%85%D9%87_%D8%AD%D9%82_%D8%B4%D8%AE%D8%B5_%D9%8A%D8%AD%D8%A8%D9%83', u'query': u'%23%D9%83%D9%84%D9%85%D9%87_%D8%AD%D9%82_%D8%B4%D8%AE%D8%B5_%D9%8A%D8%AD%D8%A8%D9%83', u'tweet_volume': None, u'name': u'#\\u0643\\u0644\\u0645\\u0647_\\u062d\\u0642_\\u0634\\u062e\\u0635_\\u064a\\u062d\\u0628\\u0643', u'promoted_content': None}, {u'url': u'http://twitter.com/search?q=%23chilhavisto', u'query': u'%23chilhavisto', u'tweet_volume': None, u'name': u'#chilhavisto', u'promoted_content': None}, {u'url': u'http://twitter.com/search?q=%23EsVeranoEnCombate', u'query': u'%23EsVeranoEnCombate', u'tweet_volume': None, u'name': u'#EsVeranoEnCombate', u'promoted_content': None}, {u'url': u'http://twitter.com/search?q=%23PaioAlBailandoDeAlcanzaAgua', u'query': u'%23PaioAlBailandoDeAlcanzaAgua', u'tweet_volume': 49280, u'name': u'#PaioAlBailandoDeAlcanzaAgua', u'promoted_content': None}, {u'url': u'http://twitter.com/search?q=%23SiTeTengoNadaMeFaltaGravano', u'query': u'%23SiTeTengoNadaMeFaltaGravano', u'tweet_volume': 24697, u'name': u'#SiTeTengoNadaMeFaltaGravano', u'promoted_content': None}, {u'url': u'http://twitter.com/search?q=%23IfIHadTrumpsMoney', u'query': u'%23IfIHadTrumpsMoney', u'tweet_volume': None, u'name': u'#IfIHadTrumpsMoney', u'promoted_content': None}, {u'url': u'http://twitter.com/search?q=%23VignaExcesoDeHumildadYTalento', u'query': u'%23VignaExcesoDeHumildadYTalento', u'tweet_volume': 64557, u'name': u'#VignaExcesoDeHumildadYTalento', u'promoted_content': None}, {u'url': u'http://twitter.com/search?q=%23%D8%A7%D9%84%D9%85%D8%AD%D8%A7%D9%83%D9%85%D9%87', u'query': u'%23%D8%A7%D9%84%D9%85%D8%AD%D8%A7%D9%83%D9%85%D9%87', u'tweet_volume': None, u'name': u'#\\u0627\\u0644\\u0645\\u062d\\u0627\\u0643\\u0645\\u0647', u'promoted_content': None}, {u'url': u'http://twitter.com/search?q=%23%D8%A7%D9%84%D8%A7%D9%87%D9%84%D9%8A_50_%D9%85%D8%A8%D8%A7%D8%B1%D8%A7%D9%87_%D8%A8%D8%AF%D9%88%D9%86_%D8%AE%D8%B3%D8%A7%D8%B1%D9%87', u'query': u'%23%D8%A7%D9%84%D8%A7%D9%87%D9%84%D9%8A_50_%D9%85%D8%A8%D8%A7%D8%B1%D8%A7%D9%87_%D8%A8%D8%AF%D9%88%D9%86_%D8%AE%D8%B3%D8%A7%D8%B1%D9%87', u'tweet_volume': None, u'name': u'#\\u0627\\u0644\\u0627\\u0647\\u0644\\u064a_50_\\u0645\\u0628\\u0627\\u0631\\u0627\\u0647_\\u0628\\u062f\\u0648\\u0646_\\u062e\\u0633\\u0627\\u0631\\u0647', u'promoted_content': None}, {u'url': u'http://twitter.com/search?q=%23%D8%A7%D9%84%D8%AA%D9%88%D9%8A%D8%AA%D8%B1%D8%A7%D9%88%D9%8A%D9%87_%D9%85%D9%84%D9%88%D9%83_%D8%A7%D9%84%D9%81%D9%88%D9%84%D9%88%D8%B1%D8%B2', u'query': u'%23%D8%A7%D9%84%D8%AA%D9%88%D9%8A%D8%AA%D8%B1%D8%A7%D9%88%D9%8A%D9%87_%D9%85%D9%84%D9%88%D9%83_%D8%A7%D9%84%D9%81%D9%88%D9%84%D9%88%D8%B1%D8%B2', u'tweet_volume': 10030, u'name': u'#\\u0627\\u0644\\u062a\\u0648\\u064a\\u062a\\u0631\\u0627\\u0648\\u064a\\u0647_\\u0645\\u0644\\u0648\\u0643_\\u0627\\u0644\\u0641\\u0648\\u0644\\u0648\\u0631\\u0632', u'promoted_content': None}, {u'url': u'http://twitter.com/search?q=%23merakediyorum', u'query': u'%23merakediyorum', u'tweet_volume': 16970, u'name': u'#merakediyorum', u'promoted_content': None}, {u'url': u'http://twitter.com/search?q=%23FPCFPC', u'query': u'%23FPCFPC', u'tweet_volume': None, u'name': u'#FPCFPC', u'promoted_content': None}, {u'url': u'http://twitter.com/search?q=%23micromachismos', u'query': u'%23micromachismos', u'tweet_volume': 20224, u'name': u'#micromachismos', u'promoted_content': None}, {u'url': u'http://twitter.com/search?q=%23FCGBFCN', u'query': u'%23FCGBFCN', u'tweet_volume': None, u'name': u'#FCGBFCN', u'promoted_content': None}, {u'url': u'http://twitter.com/search?q=%23Benim14%C5%9EubattanBeklentim', u'query': u'%23Benim14%C5%9EubattanBeklentim', u'tweet_volume': 11641, u'name': u'#Benim14\\u015eubattanBeklentim', u'promoted_content': None}, {u'url': u'http://twitter.com/search?q=%23SMSQueSalvan', u'query': u'%23SMSQueSalvan', u'tweet_volume': None, u'name': u'#SMSQueSalvan', u'promoted_content': None}, {u'url': u'http://twitter.com/search?q=%23MutluOlmam%C4%B1%C4%B0stiyorsan', u'query': u'%23MutluOlmam%C4%B1%C4%B0stiyorsan', u'tweet_volume': None, u'name': u'#MutluOlmam\\u0131\\u0130stiyorsan', u'promoted_content': None}, {u'url': u'http://twitter.com/search?q=%23palabrasbellas', u'query': u'%23palabrasbellas', u'tweet_volume': None, u'name': u'#palabrasbellas', u'promoted_content': None}, {u'url': u'http://twitter.com/search?q=%23%D9%83%D9%84%D9%85%D9%87_%D8%A8%D8%AF%D9%88%D9%8A%D9%87_%D9%85%D8%A7%D9%8A%D9%81%D9%87%D9%85%D9%87%D8%A7_%D8%A7%D9%84%D8%AD%D8%B6%D8%B1%D9%8A', u'query': u'%23%D9%83%D9%84%D9%85%D9%87_%D8%A8%D8%AF%D9%88%D9%8A%D9%87_%D9%85%D8%A7%D9%8A%D9%81%D9%87%D9%85%D9%87%D8%A7_%D8%A7%D9%84%D8%AD%D8%B6%D8%B1%D9%8A', u'tweet_volume': None, u'name': u'#\\u0643\\u0644\\u0645\\u0647_\\u0628\\u062f\\u0648\\u064a\\u0647_\\u0645\\u0627\\u064a\\u0641\\u0647\\u0645\\u0647\\u0627_\\u0627\\u0644\\u062d\\u0636\\u0631\\u064a', u'promoted_content': None}], u'as_of': u'2016-02-10T21:28:44Z', u'locations': [{u'woeid': 1, u'name': u'Worldwide'}]}]\n",
      "\n",
      "23424977\n"
     ]
    }
   ],
   "source": [
    "# The Yahoo! Where On Earth ID for the entire world is 1.\n",
    "# See https://dev.twitter.com/docs/api/1.1/get/trends/place and\n",
    "# http://developer.yahoo.com/geo/geoplanet/\n",
    "\n",
    "WORLD_WOE_ID = 1\n",
    "US_WOE_ID = 23424977\n",
    "\n",
    "# Prefix ID with the underscore for query string parameterization.\n",
    "# Without the underscore, the twitter package appends the ID value\n",
    "# to the URL itself as a special case keyword argument.\n",
    "world_trends = twitter_api.trends.place(_id = WORLD_WOE_ID)\n",
    "us_trends = twitter_api.trends.place(_id = US_WOE_ID)\n",
    "\n",
    "print world_trends\n",
    "print\n",
    "print US_WOE_ID"
   ]
  },
  {
   "cell_type": "code",
   "execution_count": 31,
   "metadata": {
    "collapsed": false
   },
   "outputs": [],
   "source": [
    "import json\n",
    "\n",
    "#print json.dumps(world_trends, indent =1)\n",
    "#print\n",
    "#print json.dumps(us_trends, indent =1)"
   ]
  },
  {
   "cell_type": "code",
   "execution_count": 32,
   "metadata": {
    "collapsed": false
   },
   "outputs": [
    {
     "name": "stdout",
     "output_type": "stream",
     "text": [
      "set([u'#WeMissYouLiam', u'#My5WordCampaignPromise', u'#IfIHadTrumpsMoney', u'#SELFIEFORSEB', u'#whywebelieveinlarry', u'Carly Fiorina', u'#IAlwaysGetAnnoyedWhen'])\n"
     ]
    }
   ],
   "source": [
    "world_trends_set = set([trend['name'] for trend in world_trends[0]['trends']])\n",
    "us_trends_set = set([trend['name'] for trend in us_trends[0]['trends']])\n",
    "\n",
    "common_trends_set = world_trends_set.intersection(us_trends_set)\n",
    "\n",
    "print common_trends_set"
   ]
  },
  {
   "cell_type": "code",
   "execution_count": 33,
   "metadata": {
    "collapsed": false
   },
   "outputs": [
    {
     "name": "stdout",
     "output_type": "stream",
     "text": [
      "Length of statuses 73\n",
      "{\n",
      " \"contributors\": null, \n",
      " \"truncated\": false, \n",
      " \"text\": \"RT @Honest_Hillary: \\\"Fine, the 'women demographic' rejected me. Fuck 'em. Who's next on the pander list?\\\" #HighlyProbableQuotes https://t.c\\u2026\", \n",
      " \"is_quote_status\": false, \n",
      " \"in_reply_to_status_id\": null, \n",
      " \"id\": 697531938123329536, \n",
      " \"favorite_count\": 0, \n",
      " \"source\": \"<a href=\\\"http://twitter.com\\\" rel=\\\"nofollow\\\">Twitter Web Client</a>\", \n",
      " \"retweeted\": false, \n",
      " \"coordinates\": null, \n",
      " \"entities\": {\n",
      "  \"symbols\": [], \n",
      "  \"user_mentions\": [\n",
      "   {\n",
      "    \"id\": 4057313892, \n",
      "    \"indices\": [\n",
      "     3, \n",
      "     18\n",
      "    ], \n",
      "    \"id_str\": \"4057313892\", \n",
      "    \"screen_name\": \"Honest_Hillary\", \n",
      "    \"name\": \"Honest Hillary\"\n",
      "   }\n",
      "  ], \n",
      "  \"hashtags\": [\n",
      "   {\n",
      "    \"indices\": [\n",
      "     106, \n",
      "     127\n",
      "    ], \n",
      "    \"text\": \"HighlyProbableQuotes\"\n",
      "   }\n",
      "  ], \n",
      "  \"urls\": [], \n",
      "  \"media\": [\n",
      "   {\n",
      "    \"source_user_id\": 4057313892, \n",
      "    \"source_status_id_str\": \"697432146483421185\", \n",
      "    \"expanded_url\": \"http://twitter.com/Honest_Hillary/status/697432146483421185/photo/1\", \n",
      "    \"display_url\": \"pic.twitter.com/VoWol3X6FC\", \n",
      "    \"url\": \"https://t.co/VoWol3X6FC\", \n",
      "    \"media_url_https\": \"https://pbs.twimg.com/media/Ca3G12WUsAAhoVy.jpg\", \n",
      "    \"source_user_id_str\": \"4057313892\", \n",
      "    \"source_status_id\": 697432146483421185, \n",
      "    \"id_str\": \"697432145736806400\", \n",
      "    \"sizes\": {\n",
      "     \"large\": {\n",
      "      \"h\": 640, \n",
      "      \"resize\": \"fit\", \n",
      "      \"w\": 640\n",
      "     }, \n",
      "     \"small\": {\n",
      "      \"h\": 340, \n",
      "      \"resize\": \"fit\", \n",
      "      \"w\": 340\n",
      "     }, \n",
      "     \"medium\": {\n",
      "      \"h\": 600, \n",
      "      \"resize\": \"fit\", \n",
      "      \"w\": 600\n",
      "     }, \n",
      "     \"thumb\": {\n",
      "      \"h\": 150, \n",
      "      \"resize\": \"crop\", \n",
      "      \"w\": 150\n",
      "     }\n",
      "    }, \n",
      "    \"indices\": [\n",
      "     139, \n",
      "     140\n",
      "    ], \n",
      "    \"type\": \"photo\", \n",
      "    \"id\": 697432145736806400, \n",
      "    \"media_url\": \"http://pbs.twimg.com/media/Ca3G12WUsAAhoVy.jpg\"\n",
      "   }\n",
      "  ]\n",
      " }, \n",
      " \"in_reply_to_screen_name\": null, \n",
      " \"in_reply_to_user_id\": null, \n",
      " \"retweet_count\": 14, \n",
      " \"id_str\": \"697531938123329536\", \n",
      " \"favorited\": false, \n",
      " \"retweeted_status\": {\n",
      "  \"contributors\": null, \n",
      "  \"truncated\": false, \n",
      "  \"text\": \"\\\"Fine, the 'women demographic' rejected me. Fuck 'em. Who's next on the pander list?\\\" #HighlyProbableQuotes https://t.co/VoWol3X6FC\", \n",
      "  \"is_quote_status\": false, \n",
      "  \"in_reply_to_status_id\": null, \n",
      "  \"id\": 697432146483421185, \n",
      "  \"favorite_count\": 19, \n",
      "  \"source\": \"<a href=\\\"http://twitter.com\\\" rel=\\\"nofollow\\\">Twitter Web Client</a>\", \n",
      "  \"retweeted\": false, \n",
      "  \"coordinates\": null, \n",
      "  \"entities\": {\n",
      "   \"symbols\": [], \n",
      "   \"user_mentions\": [], \n",
      "   \"hashtags\": [\n",
      "    {\n",
      "     \"indices\": [\n",
      "      86, \n",
      "      107\n",
      "     ], \n",
      "     \"text\": \"HighlyProbableQuotes\"\n",
      "    }\n",
      "   ], \n",
      "   \"urls\": [], \n",
      "   \"media\": [\n",
      "    {\n",
      "     \"expanded_url\": \"http://twitter.com/Honest_Hillary/status/697432146483421185/photo/1\", \n",
      "     \"display_url\": \"pic.twitter.com/VoWol3X6FC\", \n",
      "     \"url\": \"https://t.co/VoWol3X6FC\", \n",
      "     \"media_url_https\": \"https://pbs.twimg.com/media/Ca3G12WUsAAhoVy.jpg\", \n",
      "     \"id_str\": \"697432145736806400\", \n",
      "     \"sizes\": {\n",
      "      \"large\": {\n",
      "       \"h\": 640, \n",
      "       \"resize\": \"fit\", \n",
      "       \"w\": 640\n",
      "      }, \n",
      "      \"small\": {\n",
      "       \"h\": 340, \n",
      "       \"resize\": \"fit\", \n",
      "       \"w\": 340\n",
      "      }, \n",
      "      \"medium\": {\n",
      "       \"h\": 600, \n",
      "       \"resize\": \"fit\", \n",
      "       \"w\": 600\n",
      "      }, \n",
      "      \"thumb\": {\n",
      "       \"h\": 150, \n",
      "       \"resize\": \"crop\", \n",
      "       \"w\": 150\n",
      "      }\n",
      "     }, \n",
      "     \"indices\": [\n",
      "      108, \n",
      "      131\n",
      "     ], \n",
      "     \"type\": \"photo\", \n",
      "     \"id\": 697432145736806400, \n",
      "     \"media_url\": \"http://pbs.twimg.com/media/Ca3G12WUsAAhoVy.jpg\"\n",
      "    }\n",
      "   ]\n",
      "  }, \n",
      "  \"in_reply_to_screen_name\": null, \n",
      "  \"in_reply_to_user_id\": null, \n",
      "  \"retweet_count\": 14, \n",
      "  \"id_str\": \"697432146483421185\", \n",
      "  \"favorited\": false, \n",
      "  \"user\": {\n",
      "   \"follow_request_sent\": false, \n",
      "   \"has_extended_profile\": false, \n",
      "   \"profile_use_background_image\": false, \n",
      "   \"default_profile_image\": false, \n",
      "   \"id\": 4057313892, \n",
      "   \"profile_background_image_url_https\": \"https://abs.twimg.com/images/themes/theme1/bg.png\", \n",
      "   \"verified\": false, \n",
      "   \"profile_text_color\": \"000000\", \n",
      "   \"profile_image_url_https\": \"https://pbs.twimg.com/profile_images/674417273780592640/spyzZSWC_normal.jpg\", \n",
      "   \"profile_sidebar_fill_color\": \"000000\", \n",
      "   \"entities\": {\n",
      "    \"url\": {\n",
      "     \"urls\": [\n",
      "      {\n",
      "       \"url\": \"https://t.co/sPTs73MSz5\", \n",
      "       \"indices\": [\n",
      "        0, \n",
      "        23\n",
      "       ], \n",
      "       \"expanded_url\": \"http://honesthillary.com\", \n",
      "       \"display_url\": \"honesthillary.com\"\n",
      "      }\n",
      "     ]\n",
      "    }, \n",
      "    \"description\": {\n",
      "     \"urls\": []\n",
      "    }\n",
      "   }, \n",
      "   \"followers_count\": 4048, \n",
      "   \"profile_sidebar_border_color\": \"000000\", \n",
      "   \"id_str\": \"4057313892\", \n",
      "   \"profile_background_color\": \"000000\", \n",
      "   \"listed_count\": 34, \n",
      "   \"is_translation_enabled\": false, \n",
      "   \"utc_offset\": null, \n",
      "   \"statuses_count\": 627, \n",
      "   \"description\": \"Wall Street's Favorite Candidate\\u2122. I've been running for the White House for 30 damn years and it's my goddamn turn. Not the real Hillary, because I'm honest.\", \n",
      "   \"friends_count\": 4657, \n",
      "   \"location\": \"Washington, DC\", \n",
      "   \"profile_link_color\": \"DD2E44\", \n",
      "   \"profile_image_url\": \"http://pbs.twimg.com/profile_images/674417273780592640/spyzZSWC_normal.jpg\", \n",
      "   \"following\": false, \n",
      "   \"geo_enabled\": false, \n",
      "   \"profile_banner_url\": \"https://pbs.twimg.com/profile_banners/4057313892/1454467786\", \n",
      "   \"profile_background_image_url\": \"http://abs.twimg.com/images/themes/theme1/bg.png\", \n",
      "   \"screen_name\": \"Honest_Hillary\", \n",
      "   \"lang\": \"en\", \n",
      "   \"profile_background_tile\": false, \n",
      "   \"favourites_count\": 334, \n",
      "   \"name\": \"Honest Hillary\", \n",
      "   \"notifications\": false, \n",
      "   \"url\": \"https://t.co/sPTs73MSz5\", \n",
      "   \"created_at\": \"Thu Oct 29 12:13:49 +0000 2015\", \n",
      "   \"contributors_enabled\": false, \n",
      "   \"time_zone\": null, \n",
      "   \"protected\": false, \n",
      "   \"default_profile\": false, \n",
      "   \"is_translator\": false\n",
      "  }, \n",
      "  \"geo\": null, \n",
      "  \"in_reply_to_user_id_str\": null, \n",
      "  \"possibly_sensitive\": false, \n",
      "  \"lang\": \"en\", \n",
      "  \"created_at\": \"Wed Feb 10 14:49:16 +0000 2016\", \n",
      "  \"in_reply_to_status_id_str\": null, \n",
      "  \"place\": null, \n",
      "  \"metadata\": {\n",
      "   \"iso_language_code\": \"en\", \n",
      "   \"result_type\": \"recent\"\n",
      "  }\n",
      " }, \n",
      " \"user\": {\n",
      "  \"follow_request_sent\": false, \n",
      "  \"has_extended_profile\": false, \n",
      "  \"profile_use_background_image\": true, \n",
      "  \"default_profile_image\": false, \n",
      "  \"id\": 2909445756, \n",
      "  \"profile_background_image_url_https\": \"https://pbs.twimg.com/profile_background_images/681298838729052160/ySs_NCdV.jpg\", \n",
      "  \"verified\": false, \n",
      "  \"profile_text_color\": \"000000\", \n",
      "  \"profile_image_url_https\": \"https://pbs.twimg.com/profile_images/695414693054119936/3Mxuf2yp_normal.jpg\", \n",
      "  \"profile_sidebar_fill_color\": \"000000\", \n",
      "  \"entities\": {\n",
      "   \"url\": {\n",
      "    \"urls\": [\n",
      "     {\n",
      "      \"url\": \"https://t.co/ZBNrZVbzEn\", \n",
      "      \"indices\": [\n",
      "       0, \n",
      "       23\n",
      "      ], \n",
      "      \"expanded_url\": \"http://arXiv.org\", \n",
      "      \"display_url\": \"arXiv.org\"\n",
      "     }\n",
      "    ]\n",
      "   }, \n",
      "   \"description\": {\n",
      "    \"urls\": []\n",
      "   }\n",
      "  }, \n",
      "  \"followers_count\": 685, \n",
      "  \"profile_sidebar_border_color\": \"000000\", \n",
      "  \"id_str\": \"2909445756\", \n",
      "  \"profile_background_color\": \"000000\", \n",
      "  \"listed_count\": 7, \n",
      "  \"is_translation_enabled\": false, \n",
      "  \"utc_offset\": -28800, \n",
      "  \"statuses_count\": 7259, \n",
      "  \"description\": \"#Trump2016 #TrumpTrain #MakeAmericaGreatAgain #Disclosure2016\\n#Cruz follows will get 12hrs of flatulence  or worse via youtube .\\n#ProIsrael \\n#USMARINES\\n#NAVY\", \n",
      "  \"friends_count\": 644, \n",
      "  \"location\": \"Washington, USA\", \n",
      "  \"profile_link_color\": \"4A913C\", \n",
      "  \"profile_image_url\": \"http://pbs.twimg.com/profile_images/695414693054119936/3Mxuf2yp_normal.jpg\", \n",
      "  \"following\": false, \n",
      "  \"geo_enabled\": false, \n",
      "  \"profile_banner_url\": \"https://pbs.twimg.com/profile_banners/2909445756/1454725044\", \n",
      "  \"profile_background_image_url\": \"http://pbs.twimg.com/profile_background_images/681298838729052160/ySs_NCdV.jpg\", \n",
      "  \"screen_name\": \"Klinteastwoodin\", \n",
      "  \"lang\": \"en\", \n",
      "  \"profile_background_tile\": true, \n",
      "  \"favourites_count\": 1781, \n",
      "  \"name\": \"Election Theatre16\", \n",
      "  \"notifications\": false, \n",
      "  \"url\": \"https://t.co/ZBNrZVbzEn\", \n",
      "  \"created_at\": \"Mon Nov 24 23:59:56 +0000 2014\", \n",
      "  \"contributors_enabled\": false, \n",
      "  \"time_zone\": \"Pacific Time (US & Canada)\", \n",
      "  \"protected\": false, \n",
      "  \"default_profile\": false, \n",
      "  \"is_translator\": false\n",
      " }, \n",
      " \"geo\": null, \n",
      " \"in_reply_to_user_id_str\": null, \n",
      " \"possibly_sensitive\": false, \n",
      " \"lang\": \"en\", \n",
      " \"created_at\": \"Wed Feb 10 21:25:48 +0000 2016\", \n",
      " \"in_reply_to_status_id_str\": null, \n",
      " \"place\": null, \n",
      " \"metadata\": {\n",
      "  \"iso_language_code\": \"en\", \n",
      "  \"result_type\": \"recent\"\n",
      " }\n",
      "}\n"
     ]
    }
   ],
   "source": [
    "# XXX: Set this variable to a trending topic, \n",
    "# or anything else for that matter. The example query below\n",
    "# was a trending topic when this content was being developed\n",
    "# and is used throughout the remainder of this chapter.\n",
    "\n",
    "q = '#HighlyProbableQuotes'\n",
    "count = 100\n",
    "\n",
    "# See https://dev.twitter.com/docs/api/1.1/get/search/tweets\n",
    "\n",
    "search_results = twitter_api.search.tweets(q=q, count= count)\n",
    "statuses = search_results['statuses']\n",
    "\n",
    "# Iterate through 5 more batches of results by following the cursor\n",
    "for _ in range(5):\n",
    "    print \"Length of statuses\", len(statuses)\n",
    "    try:\n",
    "        next_results = search_results['search_metadata']['next_results']\n",
    "    except KeyError, e:\n",
    "        break\n",
    "    \n",
    "    # Create a dictionary from next_results, which has the following form:\n",
    "    # ?max_id=313519052523986943&q=NCAA&include_entities=1\n",
    "    kwargs = dict([kv.split('=') for kv in next_results[1:].split(\"&\") ])\n",
    "    search_results = twitter_api.search.tweets(**kwargs)\n",
    "    statuses += search_results['statuses']\n",
    "\n",
    "# Show one sample search result by slicing the list...\n",
    "print json.dumps(statuses[0], indent=1)"
   ]
  },
  {
   "cell_type": "code",
   "execution_count": 34,
   "metadata": {
    "collapsed": false
   },
   "outputs": [
    {
     "name": "stdout",
     "output_type": "stream",
     "text": [
      "{\n",
      " \"symbols\": [], \n",
      " \"user_mentions\": [\n",
      "  {\n",
      "   \"id\": 4057313892, \n",
      "   \"indices\": [\n",
      "    3, \n",
      "    18\n",
      "   ], \n",
      "   \"id_str\": \"4057313892\", \n",
      "   \"screen_name\": \"Honest_Hillary\", \n",
      "   \"name\": \"Honest Hillary\"\n",
      "  }\n",
      " ], \n",
      " \"hashtags\": [\n",
      "  {\n",
      "   \"indices\": [\n",
      "    106, \n",
      "    127\n",
      "   ], \n",
      "   \"text\": \"HighlyProbableQuotes\"\n",
      "  }\n",
      " ], \n",
      " \"urls\": [], \n",
      " \"media\": [\n",
      "  {\n",
      "   \"source_user_id\": 4057313892, \n",
      "   \"source_status_id_str\": \"697432146483421185\", \n",
      "   \"expanded_url\": \"http://twitter.com/Honest_Hillary/status/697432146483421185/photo/1\", \n",
      "   \"display_url\": \"pic.twitter.com/VoWol3X6FC\", \n",
      "   \"url\": \"https://t.co/VoWol3X6FC\", \n",
      "   \"media_url_https\": \"https://pbs.twimg.com/media/Ca3G12WUsAAhoVy.jpg\", \n",
      "   \"source_user_id_str\": \"4057313892\", \n",
      "   \"source_status_id\": 697432146483421185, \n",
      "   \"id_str\": \"697432145736806400\", \n",
      "   \"sizes\": {\n",
      "    \"large\": {\n",
      "     \"h\": 640, \n",
      "     \"resize\": \"fit\", \n",
      "     \"w\": 640\n",
      "    }, \n",
      "    \"small\": {\n",
      "     \"h\": 340, \n",
      "     \"resize\": \"fit\", \n",
      "     \"w\": 340\n",
      "    }, \n",
      "    \"medium\": {\n",
      "     \"h\": 600, \n",
      "     \"resize\": \"fit\", \n",
      "     \"w\": 600\n",
      "    }, \n",
      "    \"thumb\": {\n",
      "     \"h\": 150, \n",
      "     \"resize\": \"crop\", \n",
      "     \"w\": 150\n",
      "    }\n",
      "   }, \n",
      "   \"indices\": [\n",
      "    139, \n",
      "    140\n",
      "   ], \n",
      "   \"type\": \"photo\", \n",
      "   \"id\": 697432145736806400, \n",
      "   \"media_url\": \"http://pbs.twimg.com/media/Ca3G12WUsAAhoVy.jpg\"\n",
      "  }\n",
      " ]\n",
      "}\n"
     ]
    }
   ],
   "source": [
    "print json.dumps(statuses[0]['entities'], indent=1)"
   ]
  },
  {
   "cell_type": "code",
   "execution_count": 35,
   "metadata": {
    "collapsed": false
   },
   "outputs": [
    {
     "name": "stdout",
     "output_type": "stream",
     "text": [
      "[\n",
      " \"RT @Honest_Hillary: \\\"Fine, the 'women demographic' rejected me. Fuck 'em. Who's next on the pander list?\\\" #HighlyProbableQuotes https://t.c\\u2026\", \n",
      " \"#HighlyProbableQuotes\\n\\n\\\"I Never fucking said that!!!\\\"\\n\\n--Jesus, Mohammed, Moses,\\nBuddha &amp; Krishna https://t.co/ZFsy2G0gDC\", \n",
      " \"RT @BROADSIDED55: #HighlyProbableQuotes \\\"Just Once...In College\\\" https://t.co/4Ghw1f3Clp\", \n",
      " \"RT ColonialLife \\\"RT WorkLifeTweets: #HighlyProbableQuotes I'm too healthy for disability insurance: \\n\\u2026 https://t.co/q1hHehsUda\\\"\", \n",
      " \"#HighlyProbableQuotes ho ho ho...I was actually telling Rudolph to get me to the bunny ranch\\nSanta\"\n",
      "]\n",
      "[\n",
      " \"Honest_Hillary\", \n",
      " \"BROADSIDED55\", \n",
      " \"LVGambler123\", \n",
      " \"enyawkram\", \n",
      " \"EternalFatKid\"\n",
      "]\n",
      "[\n",
      " \"HighlyProbableQuotes\", \n",
      " \"HighlyProbableQuotes\", \n",
      " \"HighlyProbableQuotes\", \n",
      " \"HighlyProbableQuotes\", \n",
      " \"HighlyProbableQuotes\"\n",
      "]\n",
      "[\n",
      " \"RT\", \n",
      " \"@Honest_Hillary:\", \n",
      " \"\\\"Fine,\", \n",
      " \"the\", \n",
      " \"'women\"\n",
      "]\n"
     ]
    }
   ],
   "source": [
    "status_texts = [ status['text'] for status in statuses]\n",
    "screen_names = [ user_mention['screen_name'] for status in statuses for user_mention in status['entities']['user_mentions']]\n",
    "hashtags = [ hashtag['text'] for status in statuses for hashtag in status['entities']['hashtags']]\n",
    "\n",
    "words = [w for t in status_texts for w in t.split()]\n",
    "\n",
    "print json.dumps(status_texts[0:5], indent=1)\n",
    "print json.dumps(screen_names[0:5], indent=1) \n",
    "print json.dumps(hashtags[0:5], indent=1)\n",
    "print json.dumps(words[0:5], indent=1)"
   ]
  },
  {
   "cell_type": "code",
   "execution_count": 36,
   "metadata": {
    "collapsed": false
   },
   "outputs": [
    {
     "name": "stdout",
     "output_type": "stream",
     "text": [
      "[(u'#HighlyProbableQuotes', 65), (u'RT', 52), (u'to', 26), (u'the', 18), (u'I', 14), (u\"I'm\", 12), (u'-', 12), (u'for', 10), (u'you', 9), (u'be', 8)]\n",
      "\n",
      "[(u'RedNationRising', 7), (u'tlcprincess', 5), (u'The_CDA', 4), (u'darrynzewalk', 3), (u'Honest_Hillary', 3), (u'RottenBroadway', 3), (u'sofarrsogud', 2), (u'booking_buddy', 2), (u'WorkLifeTweets', 2), (u'EternalFatKid', 2)]\n",
      "\n",
      "[(u'HighlyProbableQuotes', 71), (u'AshWednesday', 3), (u'God', 3), (u'My5WordCampaignPromise', 2), (u'highlyprobablequotes', 2), (u'nature', 1), (u'johnmuir', 1), (u'NO', 1), (u'true', 1)]\n",
      "\n"
     ]
    }
   ],
   "source": [
    "from collections import Counter\n",
    "\n",
    "for item in [words, screen_names, hashtags]:\n",
    "    c = Counter(item)\n",
    "    print c.most_common()[:10]\n",
    "    print"
   ]
  },
  {
   "cell_type": "code",
   "execution_count": 37,
   "metadata": {
    "collapsed": false
   },
   "outputs": [
    {
     "name": "stdout",
     "output_type": "stream",
     "text": [
      "+-----------------------+-------+\n",
      "| Word                  | Count |\n",
      "+-----------------------+-------+\n",
      "| #HighlyProbableQuotes |    65 |\n",
      "| RT                    |    52 |\n",
      "| to                    |    26 |\n",
      "| the                   |    18 |\n",
      "| I                     |    14 |\n",
      "| I'm                   |    12 |\n",
      "| -                     |    12 |\n",
      "| for                   |    10 |\n",
      "| you                   |     9 |\n",
      "| be                    |     8 |\n",
      "+-----------------------+-------+\n",
      "+-----------------+-------+\n",
      "| Screen Name     | Count |\n",
      "+-----------------+-------+\n",
      "| RedNationRising |     7 |\n",
      "| tlcprincess     |     5 |\n",
      "| The_CDA         |     4 |\n",
      "| darrynzewalk    |     3 |\n",
      "| Honest_Hillary  |     3 |\n",
      "| RottenBroadway  |     3 |\n",
      "| sofarrsogud     |     2 |\n",
      "| booking_buddy   |     2 |\n",
      "| WorkLifeTweets  |     2 |\n",
      "| EternalFatKid   |     2 |\n",
      "+-----------------+-------+\n",
      "+------------------------+-------+\n",
      "| Hashtag                | Count |\n",
      "+------------------------+-------+\n",
      "| HighlyProbableQuotes   |    71 |\n",
      "| AshWednesday           |     3 |\n",
      "| God                    |     3 |\n",
      "| My5WordCampaignPromise |     2 |\n",
      "| highlyprobablequotes   |     2 |\n",
      "| nature                 |     1 |\n",
      "| johnmuir               |     1 |\n",
      "| NO                     |     1 |\n",
      "| true                   |     1 |\n",
      "+------------------------+-------+\n"
     ]
    }
   ],
   "source": [
    "from prettytable import PrettyTable\n",
    "\n",
    "for label, data in (('Word', words), ('Screen Name', screen_names), ('Hashtag', hashtags)):\n",
    "    pt = PrettyTable(field_names=[label, 'Count'])\n",
    "    c = Counter(data)\n",
    "    [pt.add_row(kv) for kv in c.most_common()[:10]]\n",
    "    pt.align[label], pt.align['Count'] = 'l', 'r' \n",
    "    print pt"
   ]
  },
  {
   "cell_type": "code",
   "execution_count": 38,
   "metadata": {
    "collapsed": false
   },
   "outputs": [
    {
     "name": "stdout",
     "output_type": "stream",
     "text": [
      "0.476801579467\n",
      "0.597014925373\n",
      "0.105882352941\n",
      "13.8767123288\n"
     ]
    }
   ],
   "source": [
    "def lexical_diversity(tokens):\n",
    "    return 1.0*len(set(tokens))/len(tokens)\n",
    "\n",
    "def average_words(statuses):\n",
    "    total_words = sum([len(s.split()) for s in statuses])\n",
    "    return 1.0*total_words/len(statuses)\n",
    "\n",
    "print lexical_diversity(words)\n",
    "print lexical_diversity(screen_names)\n",
    "print lexical_diversity(hashtags)\n",
    "print average_words(status_texts)"
   ]
  },
  {
   "cell_type": "code",
   "execution_count": 39,
   "metadata": {
    "collapsed": false
   },
   "outputs": [
    {
     "name": "stdout",
     "output_type": "stream",
     "text": [
      "+-------+-----------------+----------------------------------------------------+\n",
      "| Count | Screen Name     | Text                                               |\n",
      "+-------+-----------------+----------------------------------------------------+\n",
      "| 86    | RedNationRising | RT @RedNationRising: Why do we need to vote?       |\n",
      "|       |                 | I'm entitled to be our next president!             |\n",
      "|       |                 | #HighlyProbableQuotes https://t.co/bAC9zAG537      |\n",
      "| 86    | RedNationRising | RT @RedNationRising: Why do we need to vote?       |\n",
      "|       |                 | I'm entitled to be our next president!             |\n",
      "|       |                 | #HighlyProbableQuotes https://t.co/bAC9zAG537      |\n",
      "| 86    | RedNationRising | RT @RedNationRising: Why do we need to vote?       |\n",
      "|       |                 | I'm entitled to be our next president!             |\n",
      "|       |                 | #HighlyProbableQuotes https://t.co/bAC9zAG537      |\n",
      "| 86    | RedNationRising | RT @RedNationRising: Why do we need to vote?       |\n",
      "|       |                 | I'm entitled to be our next president!             |\n",
      "|       |                 | #HighlyProbableQuotes https://t.co/bAC9zAG537      |\n",
      "| 86    | RedNationRising | RT @RedNationRising: Why do we need to vote?       |\n",
      "|       |                 | I'm entitled to be our next president!             |\n",
      "|       |                 | #HighlyProbableQuotes https://t.co/bAC9zAG537      |\n",
      "+-------+-----------------+----------------------------------------------------+\n"
     ]
    }
   ],
   "source": [
    "retweets = [\n",
    "            # Store out a tuple of these three values ...\n",
    "            (status['retweet_count'], \n",
    "             status['retweeted_status']['user']['screen_name'],\n",
    "             status['text']) \n",
    "            \n",
    "            # ... for each status ...\n",
    "            for status in statuses \n",
    "            \n",
    "            # ... so long as the status meets this condition.\n",
    "                if status.has_key('retweeted_status')\n",
    "           ]\n",
    "\n",
    "# Slice off the first 5 from the sorted results and display each item in the tuple\n",
    "\n",
    "pt = PrettyTable(field_names=['Count', 'Screen Name', 'Text'])\n",
    "[ pt.add_row(row) for row in sorted(retweets, reverse=True)[:5] ]\n",
    "pt.max_width['Text'] = 50\n",
    "pt.align= 'l'\n",
    "print pt"
   ]
  },
  {
   "cell_type": "code",
   "execution_count": 40,
   "metadata": {
    "collapsed": true
   },
   "outputs": [],
   "source": [
    "#_retweets = twitter_api.statuses.retweets(id=317127304981667841)\n",
    "#print [r['user']['screen_name'] for r in _retweets]"
   ]
  },
  {
   "cell_type": "code",
   "execution_count": 42,
   "metadata": {
    "collapsed": false
   },
   "outputs": [
    {
     "data": {
      "text/plain": [
       "<matplotlib.text.Text at 0xb2c3cc0>"
      ]
     },
     "execution_count": 42,
     "metadata": {},
     "output_type": "execute_result"
    },
    {
     "data": {
      "image/png": "[encoded data removed]",
      "text/plain": [
       "<matplotlib.figure.Figure at 0xb06b208>"
      ]
     },
     "metadata": {},
     "output_type": "display_data"
    }
   ],
   "source": [
    "import matplotlib.pyplot as plt\n",
    "word_counts = sorted(Counter(words).values(), reverse=True)\n",
    "\n",
    "plt.loglog(word_counts)\n",
    "plt.ylabel(\"Freq\")\n",
    "plt.xlabel(\"Word Bank\")"
   ]
  },
  {
   "cell_type": "code",
   "execution_count": 43,
   "metadata": {
    "collapsed": false
   },
   "outputs": [
    {
     "data": {
      "image/png": "[encoded data removed]",
      "text/plain": [
       "<matplotlib.figure.Figure at 0x6183748>"
      ]
     },
     "metadata": {},
     "output_type": "display_data"
    },
    {
     "data": {
      "image/png": "[encoded data removed]",
      "text/plain": [
       "<matplotlib.figure.Figure at 0xb89b8d0>"
      ]
     },
     "metadata": {},
     "output_type": "display_data"
    },
    {
     "data": {
      "image/png": "[encoded data removed]",
      "text/plain": [
       "<matplotlib.figure.Figure at 0xb470470>"
      ]
     },
     "metadata": {},
     "output_type": "display_data"
    },
    {
     "data": {
      "text/plain": [
       "<matplotlib.figure.Figure at 0xbe60b70>"
      ]
     },
     "metadata": {},
     "output_type": "display_data"
    }
   ],
   "source": [
    "for label, data in (('Words', words), \n",
    "                    ('Screen Names', screen_names), \n",
    "                    ('Hashtags', hashtags)):\n",
    "\n",
    "    # Build a frequency map for each set of data\n",
    "    # and plot the values\n",
    "    c = Counter(data)\n",
    "    plt.hist(c.values())\n",
    "    \n",
    "    # Add a title and y-label ...\n",
    "    plt.title(label)\n",
    "    plt.ylabel(\"Number of items in bin\")\n",
    "    plt.xlabel(\"Bins (number of times an item appeared)\")\n",
    "    \n",
    "    # ... and display as a new figure\n",
    "    plt.figure()"
   ]
  },
  {
   "cell_type": "code",
   "execution_count": 44,
   "metadata": {
    "collapsed": false
   },
   "outputs": [
    {
     "name": "stdout",
     "output_type": "stream",
     "text": [
      "[14, 18, 1, 2, 8, 2, 18, 2, 24, 16, 8, 6, 4, 16, 12, 11, 1, 2, 32, 1, 16, 1, 13, 1, 13, 19, 67, 8, 3, 2, 86, 86, 86, 86, 19, 38, 4, 12, 1, 13, 16, 1, 1, 38, 1, 38, 4, 67, 7, 7, 86]\n"
     ]
    },
    {
     "data": {
      "image/png": "[encoded data removed]",
      "text/plain": [
       "<matplotlib.figure.Figure at 0xcdbc4e0>"
      ]
     },
     "metadata": {},
     "output_type": "display_data"
    }
   ],
   "source": [
    "counts = [count for count, _, _ in retweets]\n",
    "\n",
    "plt.hist(counts)\n",
    "plt.title(\"Retweets\")\n",
    "plt.xlabel('Bins (number of times retweeted)')\n",
    "plt.ylabel('Number of tweets in bin')\n",
    "\n",
    "print counts"
   ]
  },
  {
   "cell_type": "code",
   "execution_count": null,
   "metadata": {
    "collapsed": true
   },
   "outputs": [],
   "source": []
  }
 ],
 "metadata": {
  "kernelspec": {
   "display_name": "Python 2",
   "language": "python",
   "name": "python2"
  },
  "language_info": {
   "codemirror_mode": {
    "name": "ipython",
    "version": 2
   },
   "file_extension": ".py",
   "mimetype": "text/x-python",
   "name": "python",
   "nbconvert_exporter": "python",
   "pygments_lexer": "ipython2",
   "version": "2.7.11"
  }
 },
 "nbformat": 4,
 "nbformat_minor": 0
}
